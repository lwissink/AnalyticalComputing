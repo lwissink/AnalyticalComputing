{
 "cells": [
  {
   "cell_type": "markdown",
   "metadata": {},
   "source": [
    "# Oplossen van magische vierkanten met alleen integers\n",
    "\n",
    "Magische vierkant zijn vierkanten bestaande uit getallen waarbij de sommen van de getallen op de rijen, kolommen en diagonalen allemaal hetzelfde is, bijvoorbeeld:\n",
    "\n",
    "\\begin{array}{|c|c|c|} \n",
    "\\hline\n",
    "8 & 3 & 4 \\\\ \\hline\n",
    "1 & 5 & 9 \\\\ \\hline\n",
    "6 & 7 & 2 \\\\ \\hline\n",
    "\\end{array}\n",
    "\n",
    "Hierbij is de som van alle rijen, kolommen en diagonalen gelijk aan 15. \n",
    "\n",
    "Als je zelf zoeen magisch vierkant wilt oplossen kan je dat op de volgende manier doen:\n",
    "\n",
    "als we kijken naar dit voorbeeld van een vierkant\n",
    "\n",
    "\\begin{array}{|c|c|c|}\n",
    "\\hline\n",
    "23 & 24 & a \\\\ \\hline\n",
    "b & c & d \\\\ \\hline\n",
    "25 & e & f \\\\ \\hline\n",
    "\\end{array}\n",
    "\n",
    "laten we eerst zeggen dan **m** het totaal is van wat er aan elke combinatie uit het magische vierkant moet komen\n",
    "\n",
    "nu kunnen we zeggen dat a = **m** - (23+24)\n",
    "\n",
    "en bij b kunnen we nu ook zeggen dat:\n",
    "b = **m** - (23+25)\n",
    "dus\n",
    "\n",
    "\\begin{array}{|c|c|c|}\n",
    "\\hline\n",
    "23 & 24 & m - 47 \\\\ \\hline\n",
    "m - 48 & c & d \\\\ \\hline\n",
    "25 & e & f \\\\ \\hline\n",
    "\\end{array}"
   ]
  },
  {
   "cell_type": "code",
   "execution_count": null,
   "metadata": {},
   "outputs": [],
   "source": []
  }
 ],
 "metadata": {
  "kernelspec": {
   "display_name": "Python 3",
   "language": "python",
   "name": "python3"
  },
  "language_info": {
   "codemirror_mode": {
    "name": "ipython",
    "version": 3
   },
   "file_extension": ".py",
   "mimetype": "text/x-python",
   "name": "python",
   "nbconvert_exporter": "python",
   "pygments_lexer": "ipython3",
   "version": "3.7.0"
  }
 },
 "nbformat": 4,
 "nbformat_minor": 2
}
